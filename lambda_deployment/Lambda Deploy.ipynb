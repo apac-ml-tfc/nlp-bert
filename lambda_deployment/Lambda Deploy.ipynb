{
 "cells": [
  {
   "cell_type": "code",
   "execution_count": 1,
   "metadata": {},
   "outputs": [],
   "source": [
    "# For easier dev of local modules:\n",
    "%load_ext autoreload\n",
    "%autoreload 2\n",
    "\n",
    "# Python Built-Ins:\n",
    "import json\n",
    "\n",
    "# External Dependencies:\n",
    "import boto3\n",
    "import sagemaker\n",
    "from sagemaker.pytorch.estimator import PyTorch as PyTorchEstimator\n"
   ]
  },
  {
   "cell_type": "code",
   "execution_count": 2,
   "metadata": {},
   "outputs": [
    {
     "name": "stdout",
     "output_type": "stream",
     "text": [
      "Stored 'BUCKET_NAME' (str)\n",
      "Stored 'SQUAD_V2' (bool)\n"
     ]
    }
   ],
   "source": [
    "BUCKET_NAME = \"2020-05-gym-bert\"\n",
    "%store BUCKET_NAME\n",
    "\n",
    "SQUAD_V2 = False  # Whether to use V2 (including unanswerable questions)\n",
    "%store SQUAD_V2"
   ]
  },
  {
   "cell_type": "code",
   "execution_count": 3,
   "metadata": {},
   "outputs": [],
   "source": [
    "role = sagemaker.get_execution_role()\n",
    "botosess = boto3.session.Session()\n",
    "region = botosess.region_name\n",
    "s3 = botosess.resource(\"s3\")\n",
    "bucket = s3.Bucket(BUCKET_NAME)\n",
    "smclient = botosess.client(\"sagemaker\")"
   ]
  },
  {
   "cell_type": "code",
   "execution_count": 4,
   "metadata": {},
   "outputs": [],
   "source": [
    "!mkdir -p models"
   ]
  },
  {
   "cell_type": "code",
   "execution_count": 5,
   "metadata": {},
   "outputs": [],
   "source": [
    "bucket.Object(\n",
    "    \"bert-calssification-distributed-2020-05-05-15-58-03-622/output/output.tar.gz\"\n",
    ").download_file(\n",
    "    \"models/bert-cls.tar.gz\"\n",
    ")\n",
    "bucket.Object(\n",
    "    \"distilbert-calssification-distributed-2020-05-05-16-24-55-728/output/output.tar.gz\"\n",
    ").download_file(\n",
    "    \"models/distilbert-cls.tar.gz\"\n",
    ")"
   ]
  },
  {
   "cell_type": "code",
   "execution_count": null,
   "metadata": {
    "scrolled": true
   },
   "outputs": [],
   "source": [
    "!mkdir -p models/bert-cls\n",
    "!tar -C models/bert-cls -zxvf models/bert-cls.tar.gz\n",
    "!mkdir -p models/distilbert-cls\n",
    "!tar -C models/distilbert-cls -zxvf models/distilbert-cls.tar.gz"
   ]
  },
  {
   "cell_type": "code",
   "execution_count": null,
   "metadata": {},
   "outputs": [],
   "source": [
    "!./install-sam.sh"
   ]
  },
  {
   "cell_type": "code",
   "execution_count": 3,
   "metadata": {},
   "outputs": [],
   "source": [
    "STAGING_BUCKET = \"2020-05-gym-bert-sam-staging\"\n",
    "STACK_NAME = \"testa\"\n",
    "!./deploy.sh {STAGING_BUCKET} {STACK_NAME}"
   ]
  },
  {
   "cell_type": "code",
   "execution_count": null,
   "metadata": {},
   "outputs": [],
   "source": [
    "#from transformers import pipeline,TextClassificationPipeline, AutoModelForTokenClassification, AutoTokenizer\n",
    "\n",
    "# Sentiment analysis pipeline\n",
    "#pipeline('sentiment-analysis')\n",
    "#pipe=pipeline('sentiment-analysis',model=model,tokenizer=tokenizer)\n",
    "#pipe=TextClassificationPipeline(model=model,tokenizer=tokenizer)\n",
    "\n",
    "# Question answering pipeline, specifying the checkpoint identifier\n",
    "#pipeline('question-answering', model='distilbert-base-cased-distilled-squad', tokenizer='bert-base-cased')\n",
    "\n",
    "# Named entity recognition pipeline, passing in a specific model and tokenizer\n",
    "#model = AutoModelForTokenClassification.from_pretrained(\"dbmdz/bert-large-cased-finetuned-conll03-english\")\n",
    "#tokenizer = AutoTokenizer.from_pretrained(\"bert-base-cased\")\n",
    "#pipeline('ner', model=model, tokenizer=tokenizer)"
   ]
  }
 ],
 "metadata": {
  "kernelspec": {
   "display_name": "conda_pytorch_p36",
   "language": "python",
   "name": "conda_pytorch_p36"
  },
  "language_info": {
   "codemirror_mode": {
    "name": "ipython",
    "version": 3
   },
   "file_extension": ".py",
   "mimetype": "text/x-python",
   "name": "python",
   "nbconvert_exporter": "python",
   "pygments_lexer": "ipython3",
   "version": "3.6.5"
  }
 },
 "nbformat": 4,
 "nbformat_minor": 4
}
