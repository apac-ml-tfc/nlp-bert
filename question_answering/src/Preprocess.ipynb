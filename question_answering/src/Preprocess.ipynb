{
 "cells": [
  {
   "cell_type": "code",
   "execution_count": 6,
   "metadata": {},
   "outputs": [
    {
     "name": "stdout",
     "output_type": "stream",
     "text": [
      "Already up-to-date.\r\n"
     ]
    }
   ],
   "source": [
    "!git pull\n",
    "!pip install transformers"
   ]
  },
  {
   "cell_type": "code",
   "execution_count": 2,
   "metadata": {},
   "outputs": [],
   "source": [
    "import os\n",
    "import boto3\n",
    "import re\n",
    "import copy\n",
    "import time\n",
    "import io\n",
    "import struct\n",
    "from time import gmtime, strftime\n",
    "from sagemaker import get_execution_role\n",
    "import torch\n",
    "from transformers import SquadV1Processor, squad_convert_examples_to_features, BertTokenizer\n",
    "\n",
    "S3_BUCKET_NAME = \"2020-05-gym-bert\""
   ]
  },
  {
   "cell_type": "code",
   "execution_count": 3,
   "metadata": {},
   "outputs": [
    {
     "name": "stdout",
     "output_type": "stream",
     "text": [
      "  % Total    % Received % Xferd  Average Speed   Time    Time     Time  Current\n",
      "                                 Dload  Upload   Total   Spent    Left  Speed\n",
      "100 28.8M  100 28.8M    0     0  11.0M      0  0:00:02  0:00:02 --:--:-- 11.0M\n",
      "  % Total    % Received % Xferd  Average Speed   Time    Time     Time  Current\n",
      "                                 Dload  Upload   Total   Spent    Left  Speed\n",
      "100 4740k  100 4740k    0     0  2411k      0  0:00:01  0:00:01 --:--:-- 2410k\n"
     ]
    }
   ],
   "source": [
    "!curl https://raw.githubusercontent.com/rajpurkar/SQuAD-explorer/master/dataset/train-v1.1.json --output ./dataset/train-v1.1.json\n",
    "!curl https://raw.githubusercontent.com/rajpurkar/SQuAD-explorer/master/dataset/dev-v1.1.json --output ./dataset/dev-v1.1.json\n",
    "boto3.Session().resource('s3').Bucket(S3_BUCKET_NAME).Object('SQuAD_train-v1.1.json').upload_file('./dataset/train-v1.1.json')\n",
    "boto3.Session().resource('s3').Bucket(S3_BUCKET_NAME).Object('SQuAD_dev-v1.1.json').upload_file('./dataset/dev-v1.1.json')"
   ]
  },
  {
   "cell_type": "code",
   "execution_count": 4,
   "metadata": {},
   "outputs": [
    {
     "name": "stderr",
     "output_type": "stream",
     "text": [
      "100%|██████████| 48/48 [00:04<00:00,  9.99it/s]\n",
      "convert squad examples to features: 100%|██████████| 10570/10570 [01:14<00:00, 141.84it/s]\n",
      "add example index and unique id: 100%|██████████| 10570/10570 [00:00<00:00, 502314.70it/s]\n"
     ]
    }
   ],
   "source": [
    "#tokenizer = torch.hub.load('huggingface/pytorch-transformers', 'tokenizer', 'bert-base-uncased')\n",
    "tokenizer = BertTokenizer.from_pretrained(\"bert-base-cased\")\n",
    "processor = SquadV1Processor()\n",
    "examples = processor.get_train_examples('.', './dataset/dev-v1.1.json')\n",
    "features, dataset = squad_convert_examples_to_features(\n",
    "            examples=examples,\n",
    "            tokenizer=tokenizer,\n",
    "            max_seq_length=384,\n",
    "            doc_stride=128,\n",
    "            max_query_length=64,\n",
    "            is_training=True,\n",
    "            return_dataset=\"pt\",\n",
    "            threads=1,\n",
    "        )"
   ]
  },
  {
   "cell_type": "code",
   "execution_count": null,
   "metadata": {},
   "outputs": [],
   "source": []
  }
 ],
 "metadata": {
  "kernelspec": {
   "display_name": "conda_pytorch_p36",
   "language": "python",
   "name": "conda_pytorch_p36"
  },
  "language_info": {
   "codemirror_mode": {
    "name": "ipython",
    "version": 3
   },
   "file_extension": ".py",
   "mimetype": "text/x-python",
   "name": "python",
   "nbconvert_exporter": "python",
   "pygments_lexer": "ipython3",
   "version": "3.6.5"
  }
 },
 "nbformat": 4,
 "nbformat_minor": 4
}
